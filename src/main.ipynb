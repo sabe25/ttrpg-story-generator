{
 "cells": [
  {
   "metadata": {
    "ExecuteTime": {
     "end_time": "2024-10-30T11:32:56.667204Z",
     "start_time": "2024-10-30T11:32:55.836661Z"
    }
   },
   "cell_type": "code",
   "source": [
    "from camel.utils import print_text_animated\n",
    "from camel.agents import ChatAgent\n",
    "from camel.messages import BaseMessage"
   ],
   "id": "51bf6f5e040f8414",
   "outputs": [],
   "execution_count": 3
  },
  {
   "cell_type": "code",
   "id": "initial_id",
   "metadata": {
    "collapsed": true,
    "ExecuteTime": {
     "end_time": "2024-10-30T12:11:53.345136Z",
     "start_time": "2024-10-30T12:06:05.253911Z"
    }
   },
   "source": [
    "\n",
    "def refine_user_input(max_steps=10) -> str:\n",
    "    refinement_msg = BaseMessage.make_assistant_message(\n",
    "        \"Story arch writer\",\n",
    "        \"You are a creative writer focused on writing story arch for dnd one-shots. \"\n",
    "        \"You create broad overviews of story archs. For you important is that each story has the following features.\"\n",
    "        \"A plot hook, something that the player want to help or solve the problem\"\n",
    "        \"The environment, where the story is told.\"\n",
    "        \"Additionally these elements could improve the story.\"\n",
    "        \"Surprice Elements are also fun but optional, it is something the player are not expecting.\"\n",
    "        \"Interesting Characters, brings depth and live to the story\"\n",
    "        \"A thread, something the players are eager to solve, whether it is a social conflict or existencial thread to a village you are open to it all.\"\n",
    "    )\n",
    "    refinement_agent = ChatAgent(refinement_msg)\n",
    "\n",
    "    user_msg = input(\"Please specify your story.\")\n",
    "\n",
    "    initial_user_str = (\n",
    "            \"I will provide a description of a story arc.\"\n",
    "            \"The input should cover all information necessary to build the story. It should fullfill your important features.\"\n",
    "            \"If not then ask further questions about the story.\"\n",
    "            \"Never forget: Do not summarize the story until asked.\"\n",
    "            \"Never forget: If you have not further questions respond with '<NO_QUESTION>'\"\n",
    "            \"Here is the user message:\"\n",
    "            + \"{{\" + user_msg + \"}}\")\n",
    "\n",
    "    initial_user_msg = BaseMessage.make_user_message(\"User\", initial_user_str)\n",
    "    response = refinement_agent.step(initial_user_msg, )\n",
    "\n",
    "    for i in range(max_steps):\n",
    "        if i == max_steps - 1:\n",
    "            break\n",
    "        if \"<NO_QUESTION>\" in response.msg:\n",
    "            break\n",
    "\n",
    "        # print_text_animated(response.msg.content)\n",
    "        print(response.msg.content)\n",
    "\n",
    "        refined_user_input = input(\"Please answer the given questions.\")\n",
    "        refined_user_msg = BaseMessage.make_user_message(\n",
    "            \"User\",\n",
    "            \"Here is an update one the story we build.\"\n",
    "            + \"{{\" + refined_user_input + \"}}\")\n",
    "        response = refinement_agent.step(refined_user_msg)\n",
    "\n",
    "    result = refinement_agent.step(\n",
    "        BaseMessage.make_user_message(\n",
    "            \"User\",\n",
    "            \"Give a story overview with the information give by the user.\"\n",
    "            \"Structure the summary in the following blocks: player hook, story summary, important characters.\"\n",
    "            \"The story summary should give detailed information about necessary story elements.\"))\n",
    "\n",
    "    # print_text_animated(\"Thank you for your input. Here is what i got: \" + result.msg.content)\n",
    "    print(\"Thank you for your input. Here is what i got: \" + result.msg.content)\n",
    "    return result.msg.content\n",
    "story = refine_user_input()"
   ],
   "outputs": [
    {
     "name": "stdout",
     "output_type": "stream",
     "text": [
      "To create a compelling story arc based on your description, I need to gather more details. Here are some questions to help flesh out the story:\n",
      "\n",
      "1. **Plot Hook**: What motivates the Hase (hare) and Igel (hedgehog) to find the giant's fingernail? Is there a reward, a curse to break, or a personal reason for them?\n",
      "\n",
      "2. **Environment**: What kind of bar do they meet in? Is it a magical tavern, a rustic inn, or something else? What is the surrounding area like?\n",
      "\n",
      "3. **Interesting Characters**: Are there any other characters in the bar or in the story that could add depth? Perhaps other patrons, a bartender with secrets, or the giant themselves?\n",
      "\n",
      "4. **Thread**: What is the main conflict or thread that the players will be eager to solve? Is it related to the giant, the fingernail, or something personal to the Hase and Igel?\n",
      "\n",
      "5. **Surprise Elements**: Are there any unexpected twists or surprises you would like to include in the story? For example, a hidden agenda, a betrayal, or a magical phenomenon?\n",
      "\n",
      "Once I have this information, I can create a detailed story arc for you.\n",
      "It seems that your message did not include any updated information or details about the story. Could you please provide the additional details or clarify what you would like to update? This will help me create a more complete story arc for you.\n",
      "Great! Thank you for the additional details. Here’s a refined story arc based on your update:\n",
      "\n",
      "### Story Arc Overview\n",
      "\n",
      "**Plot Hook**: The Igel (hedgehog) has been cursed, and he desperately needs the giant's fingernail to lift the curse that threatens not only him but also his family. The Hase (hare) feels a strong sense of camaraderie and compassion for the Igel and agrees to help him on this quest.\n",
      "\n",
      "**Environment**: The story unfolds in a bustling tavern known as \"The Woodland Refuge,\" a cozy yet chaotic inn filled with various animals from the forest. The atmosphere is lively, with the sounds of laughter, clinking mugs, and the occasional squabble among patrons. The tavern is adorned with rustic wooden furniture, and the walls are decorated with trophies from past hunts.\n",
      "\n",
      "**Interesting Characters**:\n",
      "- **Wolf (Bar Owner)**: The cunning and intimidating owner of the tavern, who has a penchant for eating hedgehogs. He is shrewd and manipulative, often using his position to intimidate others. His true motives may be more complex than they appear.\n",
      "- **Eagle (Server)**: A clumsy but well-meaning eagle who serves drinks and food. She often stumbles over her own wings, providing comic relief. Despite her awkwardness, she has a wealth of knowledge about the forest and its secrets, which could aid the players.\n",
      "- **Other Patrons**: Various animals, each with their own stories and potential quests. They could provide clues or mislead the players, adding layers to the narrative.\n",
      "\n",
      "**Thread**: The main conflict revolves around the Igel's curse and the urgency to find the giant's fingernail. As the players delve deeper into the tavern's secrets, they may uncover a larger plot involving the Wolf and his desire to control the forest's magical creatures.\n",
      "\n",
      "**Surprise Elements**: \n",
      "- The players might discover that the giant is not a fearsome creature but rather a misunderstood being who has been cursed himself. This revelation could lead to an unexpected alliance.\n",
      "- The Wolf may have a hidden agenda that ties back to the giant, creating a moral dilemma for the players about whether to confront him or negotiate.\n",
      "\n",
      "This story arc provides a rich tapestry of interactions, conflicts, and surprises that can engage players and encourage them to explore the world you've created. If you would like to add or modify any elements, please let me know!\n",
      "It seems that your message did not include any updated information or details about the story. Could you please provide the additional details or clarify what you would like to update? This will help me create a more complete story arc for you.\n",
      "It appears that your message is still empty. If you have updates or additional details to share about the story arc, please provide them so I can assist you further. Thank you!\n",
      "It seems that your message is still not coming through with any content. If you're trying to provide updates or additional details about the story arc, please ensure that the information is included in the message. I'm here to help once you provide the necessary details!\n",
      "It appears that your message is still empty. If you have updates or additional details to share about the story arc, please provide them so I can assist you further. Thank you!\n",
      "It seems that your message is still not coming through with any content. If you're trying to provide updates or additional details about the story arc, please ensure that the information is included in the message. I'm here to help once you provide the necessary details!\n",
      "Thank you for the update! Here’s the revised story arc incorporating the new elements:\n",
      "\n",
      "### Story Arc Overview\n",
      "\n",
      "**Plot Hook**: The Igel (hedgehog) has been cursed, and he desperately needs the giant's fingernail to lift the curse that threatens not only him but also his family. The Hase (hare) feels a strong sense of camaraderie and compassion for the Igel and agrees to help him on this quest.\n",
      "\n",
      "**Environment**: The story unfolds in a bustling tavern known as \"The Woodland Refuge,\" a cozy yet chaotic inn filled with various animals from the forest. The atmosphere is lively, with the sounds of laughter, clinking mugs, and the occasional squabble among patrons. The tavern is adorned with rustic wooden furniture, and the walls are decorated with trophies from past hunts. \n",
      "\n",
      "As they embark on their journey to the giant's cave, they must navigate through a treacherous forest inhabited by giant ants, known for their size and ferocity.\n",
      "\n",
      "**Interesting Characters**:\n",
      "- **Wolf (Bar Owner)**: The cunning and intimidating owner of the tavern, who has a penchant for eating hedgehogs. He is shrewd and manipulative, often using his position to intimidate others. His true motives may be more complex than they appear.\n",
      "- **Eagle (Server)**: A clumsy but well-meaning eagle who serves drinks and food. She often stumbles over her own wings, providing comic relief. Despite her awkwardness, she has a wealth of knowledge about the forest and its secrets, which could aid the players.\n",
      "- **Giant (Riespunzel)**: Known as Riespunzel, this giant is infamous for never cutting his fingernails or hair. His unkempt appearance adds to his fearsome reputation, but he may have a softer side that the players can discover.\n",
      "\n",
      "**Thread**: The main conflict revolves around the Igel's curse and the urgency to find the giant's fingernail. As the players delve deeper into the tavern's secrets and navigate the dangers of the forest, they may uncover a larger plot involving the Wolf and his desire to control the forest's magical creatures.\n",
      "\n",
      "**Surprise Elements**: \n",
      "- The players might discover that the giant is not a fearsome creature but rather a misunderstood being who has been cursed himself. This revelation could lead to an unexpected alliance.\n",
      "- The giant's fingernails and hair may hold magical properties that could either help or hinder the players, creating a moral dilemma about how to approach him.\n",
      "- The giant ants could serve as both obstacles and potential allies, depending on how the players choose to interact with them.\n",
      "\n",
      "This updated story arc provides a rich tapestry of interactions, conflicts, and surprises that can engage players and encourage them to explore the world you've created. If you would like to add or modify any elements, please let me know!\n",
      "Thank you for your input. Here is what i got: ### Story Overview\n",
      "\n",
      "**Player Hook**: The Igel (hedgehog) has been cursed, and he urgently needs the giant's fingernail to lift the curse that threatens not only him but also his family. The Hase (hare), feeling a strong sense of camaraderie and compassion, agrees to help the Igel on this quest, setting the stage for an adventure filled with danger and discovery.\n",
      "\n",
      "**Story Summary**: The adventure begins in \"The Woodland Refuge,\" a lively tavern filled with various animals from the forest. Here, the players learn about the Igel's plight and the necessity of finding the giant known as Riespunzel, who is infamous for never cutting his fingernails or hair. The players must navigate through the tavern's bustling atmosphere, gathering information and possibly forming alliances with other patrons.\n",
      "\n",
      "Once they leave the tavern, the players embark on a perilous journey to the giant's cave, where they must pass through a treacherous forest inhabited by giant ants. These ants are formidable foes, but they may also hold secrets that could aid the players if approached correctly. As they traverse the forest, the players will encounter various challenges that test their skills and teamwork.\n",
      "\n",
      "Upon reaching the giant's cave, the players will discover that Riespunzel is not the fearsome creature they expected. Instead, he may be a misunderstood being, burdened by his own curse. The players will need to navigate the complexities of Riespunzel's character, deciding whether to confront him directly for the fingernail or to seek a way to help him in return for his assistance.\n",
      "\n",
      "Throughout the adventure, the players will uncover deeper plots involving the Wolf, the tavern owner, who has his own motives for wanting to control the magical creatures of the forest. The players must decide how to handle the Wolf's manipulations and whether to ally with or oppose him.\n",
      "\n",
      "**Important Characters**:\n",
      "- **Igel (Hedgehog)**: The cursed protagonist who seeks the giant's fingernail to save himself and his family. His determination and vulnerability drive the quest.\n",
      "- **Hase (Hare)**: The Igel's loyal companion, who offers support and bravery throughout the adventure. His quick thinking and resourcefulness are crucial to overcoming obstacles.\n",
      "- **Wolf (Bar Owner)**: The cunning and intimidating owner of \"The Woodland Refuge.\" He has a penchant for eating hedgehogs and may have ulterior motives that complicate the players' quest.\n",
      "- **Eagle (Server)**: A clumsy but well-meaning eagle who serves drinks and food at the tavern. Her knowledge of the forest and its secrets can provide valuable assistance to the players.\n",
      "- **Riespunzel (Giant)**: The giant who never cuts his fingernails or hair. Initially perceived as a fearsome figure, he may reveal a softer side, presenting the players with moral choices about how to approach him.\n",
      "\n",
      "This structured overview encapsulates the essence of the story, providing a clear framework for the adventure while highlighting the key elements that will engage the players. If you need any further adjustments or additions, feel free to ask!\n"
     ]
    }
   ],
   "execution_count": 16
  },
  {
   "metadata": {
    "ExecuteTime": {
     "end_time": "2024-10-30T12:20:38.377493Z",
     "start_time": "2024-10-30T12:20:36.516715Z"
    }
   },
   "cell_type": "code",
   "source": [
    "structure_msg = BaseMessage.make_assistant_message(\n",
    "    \"Scene creator\",\n",
    "    \"You are outlining the story in steps. Each step/encounter drives the story forward or reveal more information.\"\n",
    "    \"You have three broad encounter options: combat, NPC interaction, and exploration (traps, puzzles, navigation). The goal is to make sure you don't have too much of the same stuff back-to-back.\"\n",
    ")\n",
    "structure_agent = ChatAgent(structure_msg)\n",
    "\n",
    "firstLastResponse = structure_agent.step(\n",
    "    BaseMessage.make_user_message(\n",
    "        \"User\", \n",
    "        \"Given the story, define the first and last scene/encounter.\"\n",
    "        \"Each scene should be described in one sentence and should be labeled with an encounter option.\"\n",
    "        \"For example: \"\n",
    "        \"- Follow the thief through the busteling city alleys (navigation)\"\n",
    "        \"- Sorcerous orbs speaking in riddles (puzzle)\"\n",
    "        \"- Secretive librarian (NPC interaction)\"\n",
    "        \"- Final fight with thief and his friends (combat)\"\n",
    "        \"Here is the story: \"\n",
    "        \"{{\" + story + \"}}\"\n",
    "        \"Define the first and last scene/encounter in the format of:\"\n",
    "        \"Story Start: <first scene>\"\n",
    "        \"Story End: <last scene>\"))\n",
    "print(firstLastResponse.msg.content)\n",
    "\n",
    "rows = firstLastResponse.msg.content.split(\"\\n\")\n"
   ],
   "id": "9fcf435790b11b21",
   "outputs": [
    {
     "name": "stdout",
     "output_type": "stream",
     "text": [
      "Story Start: - Gather information about the Igel's curse and the giant Riespunzel from the lively patrons of \"The Woodland Refuge\" tavern (NPC interaction)  \n",
      "Story End: - Confront Riespunzel with the choice to either take the fingernail for the Igel or help him break his own curse, leading to a pivotal moral decision (NPC interaction)\n"
     ]
    }
   ],
   "execution_count": 17
  },
  {
   "metadata": {
    "ExecuteTime": {
     "end_time": "2024-10-30T12:20:50.988644Z",
     "start_time": "2024-10-30T12:20:46.978197Z"
    }
   },
   "cell_type": "code",
   "source": [
    "def single_agent_create_scene():\n",
    "    response = structure_agent.step(\n",
    "        BaseMessage.make_user_message(\n",
    "            \"User\",\n",
    "            \"You need to find 4 to 8 encounters inbetween the first and the last scene.\"\n",
    "            \"Each step should drive the story forward and offers clues to the next step\"\n",
    "            \"They should be ordered according to how the story unfolds\"\n",
    "            \"Do not include the first and the last step which are\"\n",
    "            + firstLastResponse.msg.content +\n",
    "            \"For example: \"\n",
    "            \"2. Follow the thief through the busteling city alleys (navigation)\"\n",
    "            \"3. Sorcerous orbs speaking in riddles in the library (puzzle)\"\n",
    "            \"4. Secretive librarian (NPC interaction)\"\n",
    "        )\n",
    "    )\n",
    "    print(response.msg.content)\n",
    "    return response.msg.content\n",
    "\n",
    "\n",
    "response_content = single_agent_create_scene()\n",
    "\n",
    "transition_steps = response_content.split(\"\\n\")\n",
    "all_steps = [rows[0], *transition_steps, rows[1]]\n",
    "print(all_steps)"
   ],
   "id": "33504d40ae4ea120",
   "outputs": [
    {
     "name": "stdout",
     "output_type": "stream",
     "text": [
      "2. Navigate through the treacherous forest, avoiding giant ants while searching for clues about Riespunzel's whereabouts (navigation)  \n",
      "3. Encounter a wise old owl who offers cryptic advice about the giant and hints at a hidden path to his cave (NPC interaction)  \n",
      "4. Solve a puzzle involving ancient forest symbols to unlock a secret passage that leads closer to the giant's cave (puzzle)  \n",
      "5. Face off against a group of giant ants that guard the entrance to the cave, testing the players' combat skills (combat)  \n",
      "6. Discover a hidden alcove in the cave containing artifacts that reveal Riespunzel's tragic backstory and the nature of his curse (exploration)  \n",
      "7. Meet the Eagle, who provides additional information about the Wolf's true intentions and how they might affect the quest (NPC interaction)  \n",
      "8. Encounter a magical barrier at the cave's entrance that requires teamwork and clever thinking to bypass (puzzle)  \n",
      "['Story Start: - Gather information about the Igel\\'s curse and the giant Riespunzel from the lively patrons of \"The Woodland Refuge\" tavern (NPC interaction)  ', \"2. Navigate through the treacherous forest, avoiding giant ants while searching for clues about Riespunzel's whereabouts (navigation)  \", '3. Encounter a wise old owl who offers cryptic advice about the giant and hints at a hidden path to his cave (NPC interaction)  ', \"4. Solve a puzzle involving ancient forest symbols to unlock a secret passage that leads closer to the giant's cave (puzzle)  \", \"5. Face off against a group of giant ants that guard the entrance to the cave, testing the players' combat skills (combat)  \", \"6. Discover a hidden alcove in the cave containing artifacts that reveal Riespunzel's tragic backstory and the nature of his curse (exploration)  \", \"7. Meet the Eagle, who provides additional information about the Wolf's true intentions and how they might affect the quest (NPC interaction)  \", \"8. Encounter a magical barrier at the cave's entrance that requires teamwork and clever thinking to bypass (puzzle)  \", 'Story End: - Confront Riespunzel with the choice to either take the fingernail for the Igel or help him break his own curse, leading to a pivotal moral decision (NPC interaction)']\n"
     ]
    }
   ],
   "execution_count": 18
  },
  {
   "metadata": {
    "ExecuteTime": {
     "end_time": "2024-10-30T12:20:53.966678Z",
     "start_time": "2024-10-30T12:20:53.941687Z"
    }
   },
   "cell_type": "code",
   "source": [
    "#load example scenes\n",
    "examples = []\n",
    "with open(\"../res/scene-example-1.txt\", \"r\") as file:\n",
    "    examples.append(file.read())\n",
    "\n",
    "with open(\"../res/scene-example-2.txt\", \"r\") as file:\n",
    "    examples.append(file.read())\n",
    "\n",
    "with open(\"../res/scene-example-3.txt\", \"r\") as file:\n",
    "    examples.append(file.read())\n",
    "    "
   ],
   "id": "a6d14fdef5464fb",
   "outputs": [],
   "execution_count": 19
  },
  {
   "metadata": {
    "ExecuteTime": {
     "end_time": "2024-10-30T12:20:55.932966Z",
     "start_time": "2024-10-30T12:20:55.901037Z"
    }
   },
   "cell_type": "code",
   "source": [
    "# setup scene writer\n",
    "scene_msg = BaseMessage.make_assistant_message(\n",
    "    \"Scene writer\",\n",
    "    \"You write descriptions for scenes played in dnd. \"\n",
    "    \"You are writing for the Dungeon Master(DM), not the players. \"\n",
    "    \"Remember to make the information easy and fast for the DM to read.\"\n",
    "    \"The scene you are writing is reference material, not a novel. The DM will be using this live at the table to run games. Split your information out into bullet points and lists, use bolding, get to the point as fast as you can, and cut anything that doesn't matter to the here-and-now (do not explain the history of each room).\"\n",
    "    \"Here are examples of how to do it:\"\n",
    "    \"\"\n",
    "    \"## Example 1:\"\n",
    "    + examples[0] +\n",
    "    \"## Example 2:\"\n",
    "    + examples[1] +\n",
    "    \"## Example 3:\"\n",
    "    + examples[2] +\n",
    "    \"Don't forget you are writing descriptions for dnd scenes\"\n",
    ")\n",
    "scene_agent = ChatAgent(scene_msg)"
   ],
   "id": "8553bbd1f9624f23",
   "outputs": [],
   "execution_count": 20
  },
  {
   "metadata": {
    "ExecuteTime": {
     "end_time": "2024-10-31T20:51:38.802363Z",
     "start_time": "2024-10-31T20:51:38.758919Z"
    }
   },
   "cell_type": "code",
   "source": [
    "\n",
    "dm_msg = BaseMessage.make_assistant_message(\n",
    "    \"Dungeon Master\",\n",
    "    \"You are the dungeon master runnng the discussed game. You want to create an emerging and interesting experience for the players.\"\n",
    "    \"You need to know how the story will unfold. Which steps are optional and which one can be run in different order.\"\n",
    ")\n",
    "dm_agent = ChatAgent(dm_msg)\n",
    "\n",
    "\n",
    "bm_msg = BaseMessage.make_assistant_message(\n",
    "    \"Beast Master\",\n",
    "    \"You know everything about how to balance a good fight and which monsters are allowed in an dnd game.\"\n",
    "    \"Make sure the right terms are used when adressing monsters or enemies.\"\n",
    ")\n",
    "bm_agent = ChatAgent(bm_msg)"
   ],
   "id": "2b276006b64abe32",
   "outputs": [],
   "execution_count": 23
  },
  {
   "metadata": {
    "ExecuteTime": {
     "end_time": "2024-10-31T20:53:27.846944Z",
     "start_time": "2024-10-31T20:53:26.275859Z"
    }
   },
   "cell_type": "code",
   "source": [
    "from camel.tasks import Task\n",
    "from camel.workforce import Workforce\n",
    "\n",
    "\n",
    "def single_agent_write_scene(prompt):\n",
    "    scene_response = scene_agent.step(BaseMessage.make_user_message(\n",
    "        \"User\",\n",
    "        prompt\n",
    "    ))\n",
    "    return scene_response.msg.content\n",
    "\n",
    "def workforce_write_scene(prompt):\n",
    "    workforce = Workforce(\"Dungeons and Dragons creative team\"\n",
    "                              ## define new_agent_kwargs\n",
    "                              )\n",
    "    workforce.add_single_agent_worker(\n",
    "      \"Agent that writes detailed descriptions about scenes\",\n",
    "      worker=scene_agent,\n",
    "    )\n",
    "    workforce.add_single_agent_worker(\n",
    "      \"Agent that will use the scene description to run a game of dnd. Acts as a validator for the scenes.\",\n",
    "      worker=dm_agent,\n",
    "    )\n",
    "    workforce.add_single_agent_worker(\n",
    "      \"Agent that knows everything about monsters and how to balance fights.\",\n",
    "      worker=bm_agent,\n",
    "    )\n",
    "    task = Task(content=prompt)\n",
    "    response = workforce.process_task(task)\n",
    "    return response.msg.content\n",
    "# write a scene\n",
    "def write_scene(current_scene, next_scene, previous_scene) -> str:\n",
    "    previous_prompt = \"The previous scene contains information and cues that leads to the current scene. Incoorporate these as needed and resolve them. Here is the previous scene: {{\" + (previous_scene or \"\") + \"}}. \"\n",
    "    next_prompt = \"The scene description should contain information that leads to the next scene. Here is the next scene: {{\" + (next_scene or \"\") + \"}}. \" if next_scene is not None else \"\"\n",
    "    prompt = (\"Create a scene description. \"\n",
    "              \"Here is the prompt for the current scene you should write a description about: {{\" + current_scene + \"}}\"\n",
    "              + ( previous_prompt if previous_scene is not None else \"\")\n",
    "              + next_prompt  +\n",
    "              \"Do not write a description for the next scene or the previous scene.\"\n",
    "              \"Don't forget you are writing a description for the current scene.\"\n",
    "    )\n",
    "    scene_response_content = workforce_write_scene(prompt)\n",
    "    # scene_response_content = single_agent_write_scene(prompt)\n",
    "    \n",
    "    print(scene_response_content + \"/n\")\n",
    "    \n",
    "    return scene_response_content\n",
    "\n",
    "cnt = 0\n",
    "previous_scene = None\n",
    "next_scene = None\n",
    "scene_list = []\n",
    "for cnt in range(0, len(all_steps) - 1):\n",
    "    current_scene = all_steps[cnt]\n",
    "    if cnt != len(all_steps) - 1: \n",
    "        next_scene = all_steps[cnt + 1]\n",
    "        \n",
    "    current_scene_desc = write_scene(current_scene, next_scene, previous_scene)\n",
    "    previous_scene = current_scene_desc\n",
    "    scene_list.append(current_scene_desc)\n",
    "    cnt += 1\n",
    "    \n"
   ],
   "id": "28eccf42df0e12c3",
   "outputs": [
    {
     "ename": "RuntimeError",
     "evalue": "asyncio.run() cannot be called from a running event loop",
     "output_type": "error",
     "traceback": [
      "\u001B[0;31m---------------------------------------------------------------------------\u001B[0m",
      "\u001B[0;31mRuntimeError\u001B[0m                              Traceback (most recent call last)",
      "Cell \u001B[0;32mIn[26], line 58\u001B[0m\n\u001B[1;32m     55\u001B[0m \u001B[38;5;28;01mif\u001B[39;00m cnt \u001B[38;5;241m!=\u001B[39m \u001B[38;5;28mlen\u001B[39m(all_steps) \u001B[38;5;241m-\u001B[39m \u001B[38;5;241m1\u001B[39m: \n\u001B[1;32m     56\u001B[0m     next_scene \u001B[38;5;241m=\u001B[39m all_steps[cnt \u001B[38;5;241m+\u001B[39m \u001B[38;5;241m1\u001B[39m]\n\u001B[0;32m---> 58\u001B[0m current_scene_desc \u001B[38;5;241m=\u001B[39m \u001B[43mwrite_scene\u001B[49m\u001B[43m(\u001B[49m\u001B[43mcurrent_scene\u001B[49m\u001B[43m,\u001B[49m\u001B[43m \u001B[49m\u001B[43mnext_scene\u001B[49m\u001B[43m,\u001B[49m\u001B[43m \u001B[49m\u001B[43mprevious_scene\u001B[49m\u001B[43m)\u001B[49m\n\u001B[1;32m     59\u001B[0m previous_scene \u001B[38;5;241m=\u001B[39m current_scene_desc\n\u001B[1;32m     60\u001B[0m scene_list\u001B[38;5;241m.\u001B[39mappend(current_scene_desc)\n",
      "Cell \u001B[0;32mIn[26], line 42\u001B[0m, in \u001B[0;36mwrite_scene\u001B[0;34m(current_scene, next_scene, previous_scene)\u001B[0m\n\u001B[1;32m     34\u001B[0m next_prompt \u001B[38;5;241m=\u001B[39m \u001B[38;5;124m\"\u001B[39m\u001B[38;5;124mThe scene description should contain information that leads to the next scene. Here is the next scene: \u001B[39m\u001B[38;5;124m{{\u001B[39m\u001B[38;5;124m\"\u001B[39m \u001B[38;5;241m+\u001B[39m (next_scene \u001B[38;5;129;01mor\u001B[39;00m \u001B[38;5;124m\"\u001B[39m\u001B[38;5;124m\"\u001B[39m) \u001B[38;5;241m+\u001B[39m \u001B[38;5;124m\"\u001B[39m\u001B[38;5;124m}}. \u001B[39m\u001B[38;5;124m\"\u001B[39m \u001B[38;5;28;01mif\u001B[39;00m next_scene \u001B[38;5;129;01mis\u001B[39;00m \u001B[38;5;129;01mnot\u001B[39;00m \u001B[38;5;28;01mNone\u001B[39;00m \u001B[38;5;28;01melse\u001B[39;00m \u001B[38;5;124m\"\u001B[39m\u001B[38;5;124m\"\u001B[39m\n\u001B[1;32m     35\u001B[0m prompt \u001B[38;5;241m=\u001B[39m (\u001B[38;5;124m\"\u001B[39m\u001B[38;5;124mCreate a scene description. \u001B[39m\u001B[38;5;124m\"\u001B[39m\n\u001B[1;32m     36\u001B[0m           \u001B[38;5;124m\"\u001B[39m\u001B[38;5;124mHere is the prompt for the current scene you should write a description about: \u001B[39m\u001B[38;5;124m{{\u001B[39m\u001B[38;5;124m\"\u001B[39m \u001B[38;5;241m+\u001B[39m current_scene \u001B[38;5;241m+\u001B[39m \u001B[38;5;124m\"\u001B[39m\u001B[38;5;124m}}\u001B[39m\u001B[38;5;124m\"\u001B[39m\n\u001B[1;32m     37\u001B[0m           \u001B[38;5;241m+\u001B[39m ( previous_prompt \u001B[38;5;28;01mif\u001B[39;00m previous_scene \u001B[38;5;129;01mis\u001B[39;00m \u001B[38;5;129;01mnot\u001B[39;00m \u001B[38;5;28;01mNone\u001B[39;00m \u001B[38;5;28;01melse\u001B[39;00m \u001B[38;5;124m\"\u001B[39m\u001B[38;5;124m\"\u001B[39m)\n\u001B[0;32m   (...)\u001B[0m\n\u001B[1;32m     40\u001B[0m           \u001B[38;5;124m\"\u001B[39m\u001B[38;5;124mDon\u001B[39m\u001B[38;5;124m'\u001B[39m\u001B[38;5;124mt forget you are writing a description for the current scene.\u001B[39m\u001B[38;5;124m\"\u001B[39m\n\u001B[1;32m     41\u001B[0m )\n\u001B[0;32m---> 42\u001B[0m scene_response_content \u001B[38;5;241m=\u001B[39m \u001B[43mworkforce_write_scene\u001B[49m\u001B[43m(\u001B[49m\u001B[43mprompt\u001B[49m\u001B[43m)\u001B[49m\n\u001B[1;32m     43\u001B[0m \u001B[38;5;66;03m# scene_response_content = single_agent_write_scene(prompt)\u001B[39;00m\n\u001B[1;32m     45\u001B[0m \u001B[38;5;28mprint\u001B[39m(scene_response_content \u001B[38;5;241m+\u001B[39m \u001B[38;5;124m\"\u001B[39m\u001B[38;5;124m/n\u001B[39m\u001B[38;5;124m\"\u001B[39m)\n",
      "Cell \u001B[0;32mIn[26], line 29\u001B[0m, in \u001B[0;36mworkforce_write_scene\u001B[0;34m(prompt)\u001B[0m\n\u001B[1;32m     24\u001B[0m workforce\u001B[38;5;241m.\u001B[39madd_single_agent_worker(\n\u001B[1;32m     25\u001B[0m   \u001B[38;5;124m\"\u001B[39m\u001B[38;5;124mAgent that knows everything about monsters and how to balance fights.\u001B[39m\u001B[38;5;124m\"\u001B[39m,\n\u001B[1;32m     26\u001B[0m   worker\u001B[38;5;241m=\u001B[39mbm_agent,\n\u001B[1;32m     27\u001B[0m )\n\u001B[1;32m     28\u001B[0m task \u001B[38;5;241m=\u001B[39m Task(content\u001B[38;5;241m=\u001B[39mprompt)\n\u001B[0;32m---> 29\u001B[0m response \u001B[38;5;241m=\u001B[39m \u001B[43mworkforce\u001B[49m\u001B[38;5;241;43m.\u001B[39;49m\u001B[43mprocess_task\u001B[49m\u001B[43m(\u001B[49m\u001B[43mtask\u001B[49m\u001B[43m)\u001B[49m\n\u001B[1;32m     30\u001B[0m \u001B[38;5;28;01mreturn\u001B[39;00m response\u001B[38;5;241m.\u001B[39mmsg\u001B[38;5;241m.\u001B[39mcontent\n",
      "File \u001B[0;32m~/Private/projects/python-venv/camel-test/lib/python3.10/site-packages/camel/workforce/utils.py:63\u001B[0m, in \u001B[0;36mcheck_if_running.<locals>.decorator.<locals>.wrapper\u001B[0;34m(self, *args, **kwargs)\u001B[0m\n\u001B[1;32m     58\u001B[0m     status \u001B[38;5;241m=\u001B[39m \u001B[38;5;124m\"\u001B[39m\u001B[38;5;124mnot running\u001B[39m\u001B[38;5;124m\"\u001B[39m \u001B[38;5;28;01mif\u001B[39;00m running \u001B[38;5;28;01melse\u001B[39;00m \u001B[38;5;124m\"\u001B[39m\u001B[38;5;124mrunning\u001B[39m\u001B[38;5;124m\"\u001B[39m\n\u001B[1;32m     59\u001B[0m     \u001B[38;5;28;01mraise\u001B[39;00m \u001B[38;5;167;01mRuntimeError\u001B[39;00m(\n\u001B[1;32m     60\u001B[0m         \u001B[38;5;124mf\u001B[39m\u001B[38;5;124m\"\u001B[39m\u001B[38;5;124mThe workforce is \u001B[39m\u001B[38;5;132;01m{\u001B[39;00mstatus\u001B[38;5;132;01m}\u001B[39;00m\u001B[38;5;124m. Cannot perform the \u001B[39m\u001B[38;5;124m\"\u001B[39m\n\u001B[1;32m     61\u001B[0m         \u001B[38;5;124mf\u001B[39m\u001B[38;5;124m\"\u001B[39m\u001B[38;5;124moperation \u001B[39m\u001B[38;5;132;01m{\u001B[39;00mfunc\u001B[38;5;241m.\u001B[39m\u001B[38;5;18m__name__\u001B[39m\u001B[38;5;132;01m}\u001B[39;00m\u001B[38;5;124m.\u001B[39m\u001B[38;5;124m\"\u001B[39m\n\u001B[1;32m     62\u001B[0m     )\n\u001B[0;32m---> 63\u001B[0m \u001B[38;5;28;01mreturn\u001B[39;00m \u001B[43mfunc\u001B[49m\u001B[43m(\u001B[49m\u001B[38;5;28;43mself\u001B[39;49m\u001B[43m,\u001B[49m\u001B[43m \u001B[49m\u001B[38;5;241;43m*\u001B[39;49m\u001B[43margs\u001B[49m\u001B[43m,\u001B[49m\u001B[43m \u001B[49m\u001B[38;5;241;43m*\u001B[39;49m\u001B[38;5;241;43m*\u001B[39;49m\u001B[43mkwargs\u001B[49m\u001B[43m)\u001B[49m\n",
      "File \u001B[0;32m~/Private/projects/python-venv/camel-test/lib/python3.10/site-packages/camel/workforce/workforce.py:153\u001B[0m, in \u001B[0;36mWorkforce.process_task\u001B[0;34m(self, task)\u001B[0m\n\u001B[1;32m    150\u001B[0m \u001B[38;5;28mself\u001B[39m\u001B[38;5;241m.\u001B[39m_pending_tasks\u001B[38;5;241m.\u001B[39mextendleft(\u001B[38;5;28mreversed\u001B[39m(subtasks))\n\u001B[1;32m    151\u001B[0m \u001B[38;5;28mself\u001B[39m\u001B[38;5;241m.\u001B[39mset_channel(TaskChannel())\n\u001B[0;32m--> 153\u001B[0m \u001B[43masyncio\u001B[49m\u001B[38;5;241;43m.\u001B[39;49m\u001B[43mrun\u001B[49m\u001B[43m(\u001B[49m\u001B[38;5;28;43mself\u001B[39;49m\u001B[38;5;241;43m.\u001B[39;49m\u001B[43mstart\u001B[49m\u001B[43m(\u001B[49m\u001B[43m)\u001B[49m\u001B[43m)\u001B[49m\n\u001B[1;32m    155\u001B[0m \u001B[38;5;28;01mreturn\u001B[39;00m task\n",
      "File \u001B[0;32m/opt/homebrew/Cellar/python@3.10/3.10.15/Frameworks/Python.framework/Versions/3.10/lib/python3.10/asyncio/runners.py:33\u001B[0m, in \u001B[0;36mrun\u001B[0;34m(main, debug)\u001B[0m\n\u001B[1;32m      9\u001B[0m \u001B[38;5;250m\u001B[39m\u001B[38;5;124;03m\"\"\"Execute the coroutine and return the result.\u001B[39;00m\n\u001B[1;32m     10\u001B[0m \n\u001B[1;32m     11\u001B[0m \u001B[38;5;124;03mThis function runs the passed coroutine, taking care of\u001B[39;00m\n\u001B[0;32m   (...)\u001B[0m\n\u001B[1;32m     30\u001B[0m \u001B[38;5;124;03m    asyncio.run(main())\u001B[39;00m\n\u001B[1;32m     31\u001B[0m \u001B[38;5;124;03m\"\"\"\u001B[39;00m\n\u001B[1;32m     32\u001B[0m \u001B[38;5;28;01mif\u001B[39;00m events\u001B[38;5;241m.\u001B[39m_get_running_loop() \u001B[38;5;129;01mis\u001B[39;00m \u001B[38;5;129;01mnot\u001B[39;00m \u001B[38;5;28;01mNone\u001B[39;00m:\n\u001B[0;32m---> 33\u001B[0m     \u001B[38;5;28;01mraise\u001B[39;00m \u001B[38;5;167;01mRuntimeError\u001B[39;00m(\n\u001B[1;32m     34\u001B[0m         \u001B[38;5;124m\"\u001B[39m\u001B[38;5;124masyncio.run() cannot be called from a running event loop\u001B[39m\u001B[38;5;124m\"\u001B[39m)\n\u001B[1;32m     36\u001B[0m \u001B[38;5;28;01mif\u001B[39;00m \u001B[38;5;129;01mnot\u001B[39;00m coroutines\u001B[38;5;241m.\u001B[39miscoroutine(main):\n\u001B[1;32m     37\u001B[0m     \u001B[38;5;28;01mraise\u001B[39;00m \u001B[38;5;167;01mValueError\u001B[39;00m(\u001B[38;5;124m\"\u001B[39m\u001B[38;5;124ma coroutine was expected, got \u001B[39m\u001B[38;5;132;01m{!r}\u001B[39;00m\u001B[38;5;124m\"\u001B[39m\u001B[38;5;241m.\u001B[39mformat(main))\n",
      "\u001B[0;31mRuntimeError\u001B[0m: asyncio.run() cannot be called from a running event loop"
     ]
    }
   ],
   "execution_count": 26
  }
 ],
 "metadata": {
  "kernelspec": {
   "display_name": "Python 3",
   "language": "python",
   "name": "python3"
  },
  "language_info": {
   "codemirror_mode": {
    "name": "ipython",
    "version": 2
   },
   "file_extension": ".py",
   "mimetype": "text/x-python",
   "name": "python",
   "nbconvert_exporter": "python",
   "pygments_lexer": "ipython2",
   "version": "2.7.6"
  }
 },
 "nbformat": 4,
 "nbformat_minor": 5
}
